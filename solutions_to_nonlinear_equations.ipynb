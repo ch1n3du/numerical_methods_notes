{
 "cells": [
  {
   "cell_type": "code",
   "execution_count": 1,
   "metadata": {},
   "outputs": [],
   "source": [
    "from typing import Callable, Tuple \n",
    "\n",
    "\n",
    "# Non-linear functions are types that take \n",
    "# a float and return a float.\n",
    "NonLinearFunction = Callable[[int], int]\n",
    "\n",
    "# Helper Functions\n",
    "def sign_of(number) -> int:\n",
    "    if number == 0:\n",
    "        return 0\n",
    "    elif number < 0:\n",
    "        return -1\n",
    "    elif number > 0:\n",
    "        return 1"
   ]
  },
  {
   "cell_type": "markdown",
   "metadata": {},
   "source": [
    "# Solutions to Non-Linear Equations"
   ]
  },
  {
   "cell_type": "markdown",
   "metadata": {},
   "source": [
    "Numerical methods for solving non-linear equations can be broadly divided into two:\n",
    "\n",
    "1. Bracketing Methods\n",
    "2. Open Methods"
   ]
  },
  {
   "cell_type": "markdown",
   "metadata": {},
   "source": [
    "## 1.1 Bracketing Methods\n",
    "\n",
    "Bracketing methods start with an *interval* that contains the root and a procedure is used to obtain a smaller interval containing the root.\n",
    "\n",
    "Examples of Bracketing methods:\n",
    "- Bisection Method\n",
    "- False position method (Regula-Falsi)"
   ]
  },
  {
   "cell_type": "markdown",
   "metadata": {},
   "source": [
    "### 1.1.1 Bisection Method (or Interval Halving)\n",
    "\n",
    "In the bisection method you are given the two numbers that represent an interval on the x-axis of the number line that contains the root.\n",
    "\n",
    "```\n",
    "           interval_midpoint\n",
    "                   |\n",
    "  interval_start   ↓   interval_end \n",
    "          ⬤-----------------⬤\n",
    "-∞       -3 -2  -1   0   1   2   3       +∞\n",
    " └┴┴┴┴┴─┴─┴──┴───┴───┴───┴───┴───┴─┴─┴┴┴┴┘ \n",
    "```\n",
    "\n",
    "#### Assumptions of the Bisection Method\n",
    "Given a function $f(x)$ and an interval $[interval\\_start,  interval\\_end]$.\n",
    "- $f(x)$ is continuous on the interval.\n",
    "- The sign of $f(interval\\_start)$ and $f(interval\\_end)$ are different\n",
    "  (i.e $f(interval\\_start) \\times f(interval\\_end)$)\n",
    "\n",
    "#### Algorithm of the Bisection Method\n",
    "\n",
    "1. At each iteration you evaluate the value of the function at:\n",
    "    - The start of the interval, $interval\\_start$\n",
    "    - The end of the interval, $interval\\_end$\n",
    "    - And, the midpoint of the interval, $interval\\_midpoint$\n",
    "\n",
    "2. Adjust the values of $interval\\_start$ and $interval_end$ using the following rule:\n",
    "    - If the value of the function at $interval\\_midpoint$ has the *<ins>same sign</ins>* as $interval\\_start$, then the new interval is: $[interval\\_midpoint, interval\\_end]$.\n",
    "\n",
    "    - If the value of the function at $interval\\_midpoint$ has the *<ins>same sign</ins>* as $interval\\_end$, then the new interval is: $[interval\\_start, interval\\_midpoint]$\n",
    "\n",
    "#### Best Estimate and Error Level\n",
    "\n",
    "The best estimate of the root of the equation is the mid point of the interval.\n",
    "\n",
    "  $Estimate \\space of \\space the \\space zero: r = \\frac{b + a}{2}$\n",
    "\n",
    "Using the midpoint of the interval as an estimate the error is given by:\n",
    "\n",
    "$Error \\leq \\frac{b - a}{2}$\n",
    "\n",
    "\n",
    "\n",
    "#### Convergence Analysis of Bisection Method\n",
    "$n \\leq \\frac{log(b-a) - log(\\epsilon)}{log(2)}$\n",
    "\n",
    "Where:\n",
    "\n",
    "- $n$: The number of iterations.\n",
    "- $[a, b]$: The interval of the containing the root.\n",
    "- $\\epsilon$: The acceptable error (specified as an absolute error).\n"
   ]
  },
  {
   "cell_type": "code",
   "execution_count": 2,
   "metadata": {},
   "outputs": [],
   "source": [
    "# This is a verbose example to explain the concepts\n",
    "\n",
    "def bisection_method(\n",
    "    function: NonLinearFunction,\n",
    "    interval: Tuple[float, float],\n",
    "    iteration_limit: int,\n",
    ") -> float:\n",
    "\n",
    "    # Check that the interval has two different errors at both sides\n",
    "    (interval_start, interval_end) = interval\n",
    "    assert sign_of(function(interval_start)) != sign_of(function(interval_end))\n",
    "\n",
    "\n",
    "    # Create table for pretty-printing.\n",
    "    print(f\"| Start    | Midpoint | End      |\")\n",
    "    print(f\"==================================\")\n",
    "\n",
    "    for _ in range(iteration_limit):\n",
    "        interval_midpoint = (interval_start + interval_end) / 2\n",
    "\n",
    "        # Log the interval values\n",
    "        print(f\"| {interval_start:.6f} | {interval_midpoint:.6f} | {interval_end:.6f} |\")\n",
    "\n",
    "        # Get the value of the function at the interval's\n",
    "        # start, end and midpoint.\n",
    "        value_at_interval_start: float = function(interval_start)\n",
    "        value_at_interval_end: float = function(interval_end)\n",
    "        value_at_interval_midpoint: float = function(interval_midpoint)\n",
    "\n",
    "\n",
    "        # If we found the exact root return early.\n",
    "        if value_at_interval_midpoint == 0:\n",
    "            return interval_midpoint\n",
    "\n",
    "        elif sign_of(value_at_interval_start) == sign_of(value_at_interval_midpoint):\n",
    "            # If the sign of the midpoint is the same as the sign at the \n",
    "            # start of the interval, the midpoint becomes the new interval start\n",
    "            interval_start = interval_midpoint\n",
    "            \n",
    "        elif sign_of(value_at_interval_end) == sign_of(value_at_interval_midpoint):\n",
    "            # If the sign of the midpoint is the same as the sign at the\n",
    "            # end of the interval, the midpoint becomes the new interval end. \n",
    "            interval_end = interval_midpoint\n",
    "\n",
    "    # Once we've exceeded the iteration limit return whatever is the\n",
    "    # midpoint of the interval\n",
    "    interval_midpoint = (interval_start + interval_end) / 2\n",
    "    return interval_midpoint\n",
    "\n"
   ]
  },
  {
   "cell_type": "markdown",
   "metadata": {},
   "source": [
    "Testing out our code:"
   ]
  },
  {
   "cell_type": "code",
   "execution_count": 5,
   "metadata": {},
   "outputs": [
    {
     "name": "stdout",
     "output_type": "stream",
     "text": [
      "| Start    | Midpoint | End      |\n",
      "==================================\n",
      "| 0.000000 | 1.500000 | 3.000000 |\n",
      "| 1.500000 | 2.250000 | 3.000000 |\n",
      "| 1.500000 | 1.875000 | 2.250000 |\n",
      "| 1.875000 | 2.062500 | 2.250000 |\n",
      "| 1.875000 | 1.968750 | 2.062500 |\n",
      "| 1.968750 | 2.015625 | 2.062500 |\n",
      "| 1.968750 | 1.992188 | 2.015625 |\n",
      "| 1.992188 | 2.003906 | 2.015625 |\n",
      "| 1.992188 | 1.998047 | 2.003906 |\n",
      "| 1.998047 | 2.000977 | 2.003906 |\n",
      "| 1.998047 | 1.999512 | 2.000977 |\n",
      "| 1.999512 | 2.000244 | 2.000977 |\n",
      "| 1.999512 | 1.999878 | 2.000244 |\n",
      "| 1.999878 | 2.000061 | 2.000244 |\n",
      "| 1.999878 | 1.999969 | 2.000061 |\n",
      "| 1.999969 | 2.000015 | 2.000061 |\n",
      "| 1.999969 | 1.999992 | 2.000015 |\n",
      "| 1.999992 | 2.000004 | 2.000015 |\n",
      "| 1.999992 | 1.999998 | 2.000004 |\n",
      "| 1.999998 | 2.000001 | 2.000004 |\n"
     ]
    },
    {
     "data": {
      "text/plain": [
       "<matplotlib.collections.PathCollection at 0x25c671f5490>"
      ]
     },
     "execution_count": 5,
     "metadata": {},
     "output_type": "execute_result"
    },
    {
     "data": {
      "image/png": "[encoded data removed]",
      "text/plain": [
       "<Figure size 640x480 with 1 Axes>"
      ]
     },
     "metadata": {},
     "output_type": "display_data"
    }
   ],
   "source": [
    "func_1 = lambda x: (x**2) - x - 2\n",
    "\n",
    "root = bisection_method(\n",
    "    function = func_1,\n",
    "    interval = (0, 3),\n",
    "    iteration_limit = 20,\n",
    ")\n",
    "\n",
    "import matplotlib.pyplot as plt\n",
    "\n",
    "plt.grid()\n",
    "plt.plot(\n",
    "    list(map(func_1, range(-3, 6)))\n",
    ")\n",
    "plt.scatter(2, 0, color=\"red\")\n",
    "plt.scatter(5, 0, color=\"red\")\n"
   ]
  },
  {
   "cell_type": "code",
   "execution_count": 4,
   "metadata": {},
   "outputs": [],
   "source": [
    "# Simple version\n",
    "\n",
    "def bisection_method_simple(\n",
    "    f: NonLinearFunction,\n",
    "    interval: Tuple[float, float],\n",
    "    iteration_limit: int,\n",
    ") -> float:\n",
    "    (a, b) = interval\n",
    "    for _ in range(iteration_limit):\n",
    "        c = (a+b) / 2\n",
    "        f_a = f(a)\n",
    "        f_b = f(b)\n",
    "        f_c = f(c)\n",
    "\n",
    "        if sign_of(f_c) == sign_of(f_a):\n",
    "            a = c\n",
    "        elif sign_of(f_c) == sign_of(f_b):\n",
    "            b = c\n",
    "        elif f_c == 0:\n",
    "            return c\n",
    "\n",
    "    return (a+b) / 2"
   ]
  },
  {
   "cell_type": "markdown",
   "metadata": {},
   "source": []
  }
 ],
 "metadata": {
  "kernelspec": {
   "display_name": "numerical-methods-ey6zvgZN-py3.11",
   "language": "python",
   "name": "python3"
  },
  "language_info": {
   "codemirror_mode": {
    "name": "ipython",
    "version": 3
   },
   "file_extension": ".py",
   "mimetype": "text/x-python",
   "name": "python",
   "nbconvert_exporter": "python",
   "pygments_lexer": "ipython3",
   "version": "3.11.4"
  }
 },
 "nbformat": 4,
 "nbformat_minor": 2
}
